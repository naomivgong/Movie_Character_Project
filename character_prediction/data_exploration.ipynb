{
 "cells": [
  {
   "cell_type": "markdown",
   "metadata": {},
   "source": [
    "## Data Exploration for Character Prediction\n",
    "Goal: Given a movie and a dialogue predict which character is mostly like to say that particular line\n",
    "\n",
    "Goal: Gradio + Start Deployment and this would be one of the features on the app + Add in the sentiment where you can predict the sentiment"
   ]
  },
  {
   "cell_type": "code",
   "execution_count": 2,
   "metadata": {},
   "outputs": [],
   "source": [
    "import pandas as pd\n",
    "import matplotlib.pyplot as plt"
   ]
  },
  {
   "cell_type": "code",
   "execution_count": 3,
   "metadata": {},
   "outputs": [
    {
     "data": {
      "text/plain": [
       "(200369, 6)"
      ]
     },
     "execution_count": 3,
     "metadata": {},
     "output_type": "execute_result"
    }
   ],
   "source": [
    "data = pd.read_csv(\"../sentiment_analysis/lines_cleaned.csv\")\n",
    "character_lines_df = data.rename(columns={'count': 'num_lines_per_movie_count'})\n",
    "character_lines_df.shape"
   ]
  },
  {
   "cell_type": "code",
   "execution_count": 4,
   "metadata": {},
   "outputs": [
    {
     "data": {
      "text/plain": [
       "(array([23916., 19689., 18407., 18438., 19008., 13626., 17035., 14318.,\n",
       "         4511.,  5535.,  9062.,  8589.,  3641.,   944.,  3876.,  7046.,\n",
       "         2092.,  3218.,  1121.,  2301.,  1197.,     0.,  1269.,     0.,\n",
       "            0.,     0.,     0.,     0.,     0.,  1530.]),\n",
       " array([ 451.        ,  486.96666667,  522.93333333,  558.9       ,\n",
       "         594.86666667,  630.83333333,  666.8       ,  702.76666667,\n",
       "         738.73333333,  774.7       ,  810.66666667,  846.63333333,\n",
       "         882.6       ,  918.56666667,  954.53333333,  990.5       ,\n",
       "        1026.46666667, 1062.43333333, 1098.4       , 1134.36666667,\n",
       "        1170.33333333, 1206.3       , 1242.26666667, 1278.23333333,\n",
       "        1314.2       , 1350.16666667, 1386.13333333, 1422.1       ,\n",
       "        1458.06666667, 1494.03333333, 1530.        ]),\n",
       " <BarContainer object of 30 artists>)"
      ]
     },
     "execution_count": 4,
     "metadata": {},
     "output_type": "execute_result"
    },
    {
     "data": {
      "image/png": "[encoded data removed]",
      "text/plain": [
       "<Figure size 640x480 with 1 Axes>"
      ]
     },
     "metadata": {},
     "output_type": "display_data"
    }
   ],
   "source": [
    "plt.hist(character_lines_df[\"num_lines_per_movie_count\"], bins = 30)"
   ]
  },
  {
   "cell_type": "code",
   "execution_count": 5,
   "metadata": {},
   "outputs": [
    {
     "name": "stdout",
     "output_type": "stream",
     "text": [
      "The number of movies there are is 314 \n"
     ]
    }
   ],
   "source": [
    "movie_count = len(character_lines_df[\"movieID\"].unique())\n",
    "print(f\"The number of movies there are is {movie_count} \")"
   ]
  },
  {
   "cell_type": "code",
   "execution_count": 6,
   "metadata": {},
   "outputs": [
    {
     "data": {
      "text/plain": [
       "(617, 6)"
      ]
     },
     "execution_count": 6,
     "metadata": {},
     "output_type": "execute_result"
    }
   ],
   "source": [
    "columns = [\"movieID\", \"movieTitle\", \"movie_year\", \"IMDB_Rating\", \"num_IMDB_votes\", \"genres\"]\n",
    "movie_data_df = pd.read_csv(\"../data/movie_titles_metadata.tsv\", sep=\"\\t\", on_bad_lines='skip', names= columns)\n",
    "movie_data_df.shape"
   ]
  },
  {
   "cell_type": "markdown",
   "metadata": {},
   "source": [
    "Keeps the movie_data rows that is already in the character_lines_df. This way we can merge them together. Character_lines_df already ensures there is enough lines per movie to work with"
   ]
  },
  {
   "cell_type": "code",
   "execution_count": 7,
   "metadata": {},
   "outputs": [
    {
     "data": {
      "text/plain": [
       "(313, 6)"
      ]
     },
     "execution_count": 7,
     "metadata": {},
     "output_type": "execute_result"
    }
   ],
   "source": [
    "movie_data_df = movie_data_df[movie_data_df[\"movieID\"].isin(character_lines_df[\"movieID\"])]\n",
    "movie_data_df.shape"
   ]
  },
  {
   "cell_type": "code",
   "execution_count": 8,
   "metadata": {},
   "outputs": [],
   "source": [
    "#now merge the two dataframes on movieID\n",
    "character_lines_df = pd.merge(movie_data_df, character_lines_df, on=\"movieID\")\n",
    "character_lines_df = character_lines_df.drop(columns=[\"movie_year\", \"IMDB_Rating\", \"num_IMDB_votes\", \"genres\"])"
   ]
  },
  {
   "cell_type": "code",
   "execution_count": 9,
   "metadata": {},
   "outputs": [
    {
     "data": {
      "text/plain": [
       "count    313.000000\n",
       "mean      16.817891\n",
       "std        5.657596\n",
       "min        5.000000\n",
       "25%       13.000000\n",
       "50%       16.000000\n",
       "75%       19.000000\n",
       "max       44.000000\n",
       "Name: character, dtype: float64"
      ]
     },
     "execution_count": 9,
     "metadata": {},
     "output_type": "execute_result"
    }
   ],
   "source": [
    "character_count_per_movie = character_lines_df.groupby(\"movieID\")[\"character\"].nunique()\n",
    "character_count_per_movie.describe()"
   ]
  },
  {
   "cell_type": "markdown",
   "metadata": {},
   "source": [
    "Remove movies in which the character count is less than 7"
   ]
  },
  {
   "cell_type": "code",
   "execution_count": 10,
   "metadata": {},
   "outputs": [],
   "source": [
    "character_count_valid_ids = character_count_per_movie[character_count_per_movie >= 5].index\n",
    "character_lines_df = character_lines_df[character_lines_df[\"movieID\"].isin(character_count_valid_ids)]"
   ]
  },
  {
   "cell_type": "markdown",
   "metadata": {},
   "source": [
    "Now, we want to make sure that each character has enough lines. Each character must have at least 50 lines to work with."
   ]
  },
  {
   "cell_type": "code",
   "execution_count": 11,
   "metadata": {},
   "outputs": [
    {
     "data": {
      "text/html": [
       "<div>\n",
       "<style scoped>\n",
       "    .dataframe tbody tr th:only-of-type {\n",
       "        vertical-align: middle;\n",
       "    }\n",
       "\n",
       "    .dataframe tbody tr th {\n",
       "        vertical-align: top;\n",
       "    }\n",
       "\n",
       "    .dataframe thead th {\n",
       "        text-align: right;\n",
       "    }\n",
       "</style>\n",
       "<table border=\"1\" class=\"dataframe\">\n",
       "  <thead>\n",
       "    <tr style=\"text-align: right;\">\n",
       "      <th></th>\n",
       "      <th>movieID</th>\n",
       "      <th>movieTitle</th>\n",
       "      <th>lineID</th>\n",
       "      <th>characterID</th>\n",
       "      <th>character</th>\n",
       "      <th>text</th>\n",
       "      <th>num_lines_per_movie_count</th>\n",
       "    </tr>\n",
       "  </thead>\n",
       "  <tbody>\n",
       "    <tr>\n",
       "      <th>0</th>\n",
       "      <td>m0</td>\n",
       "      <td>10 things i hate about you</td>\n",
       "      <td>L1045</td>\n",
       "      <td>u0</td>\n",
       "      <td>BIANCA</td>\n",
       "      <td>They do not!</td>\n",
       "      <td>654</td>\n",
       "    </tr>\n",
       "    <tr>\n",
       "      <th>1</th>\n",
       "      <td>m0</td>\n",
       "      <td>10 things i hate about you</td>\n",
       "      <td>L1044</td>\n",
       "      <td>u2</td>\n",
       "      <td>CAMERON</td>\n",
       "      <td>They do to!</td>\n",
       "      <td>654</td>\n",
       "    </tr>\n",
       "    <tr>\n",
       "      <th>2</th>\n",
       "      <td>m0</td>\n",
       "      <td>10 things i hate about you</td>\n",
       "      <td>L985</td>\n",
       "      <td>u0</td>\n",
       "      <td>BIANCA</td>\n",
       "      <td>I hope so.</td>\n",
       "      <td>654</td>\n",
       "    </tr>\n",
       "    <tr>\n",
       "      <th>3</th>\n",
       "      <td>m0</td>\n",
       "      <td>10 things i hate about you</td>\n",
       "      <td>L984</td>\n",
       "      <td>u2</td>\n",
       "      <td>CAMERON</td>\n",
       "      <td>She okay?</td>\n",
       "      <td>654</td>\n",
       "    </tr>\n",
       "    <tr>\n",
       "      <th>4</th>\n",
       "      <td>m0</td>\n",
       "      <td>10 things i hate about you</td>\n",
       "      <td>L925</td>\n",
       "      <td>u0</td>\n",
       "      <td>BIANCA</td>\n",
       "      <td>Let's go.</td>\n",
       "      <td>654</td>\n",
       "    </tr>\n",
       "    <tr>\n",
       "      <th>...</th>\n",
       "      <td>...</td>\n",
       "      <td>...</td>\n",
       "      <td>...</td>\n",
       "      <td>...</td>\n",
       "      <td>...</td>\n",
       "      <td>...</td>\n",
       "      <td>...</td>\n",
       "    </tr>\n",
       "    <tr>\n",
       "      <th>199883</th>\n",
       "      <td>m615</td>\n",
       "      <td>young frankenstein</td>\n",
       "      <td>L665696</td>\n",
       "      <td>u9019</td>\n",
       "      <td>IGOR</td>\n",
       "      <td>Whew!  A nineteen-inch drill.</td>\n",
       "      <td>574</td>\n",
       "    </tr>\n",
       "    <tr>\n",
       "      <th>199884</th>\n",
       "      <td>m615</td>\n",
       "      <td>young frankenstein</td>\n",
       "      <td>L665695</td>\n",
       "      <td>u9020</td>\n",
       "      <td>INGA</td>\n",
       "      <td>His schwanzstucker.</td>\n",
       "      <td>574</td>\n",
       "    </tr>\n",
       "    <tr>\n",
       "      <th>199885</th>\n",
       "      <td>m615</td>\n",
       "      <td>young frankenstein</td>\n",
       "      <td>L665694</td>\n",
       "      <td>u9019</td>\n",
       "      <td>IGOR</td>\n",
       "      <td>His what??</td>\n",
       "      <td>574</td>\n",
       "    </tr>\n",
       "    <tr>\n",
       "      <th>199886</th>\n",
       "      <td>m615</td>\n",
       "      <td>young frankenstein</td>\n",
       "      <td>L665652</td>\n",
       "      <td>u9020</td>\n",
       "      <td>INGA</td>\n",
       "      <td>There must have been someone else down here then.</td>\n",
       "      <td>574</td>\n",
       "    </tr>\n",
       "    <tr>\n",
       "      <th>199887</th>\n",
       "      <td>m615</td>\n",
       "      <td>young frankenstein</td>\n",
       "      <td>L665651</td>\n",
       "      <td>u9019</td>\n",
       "      <td>IGOR</td>\n",
       "      <td>No not sound.</td>\n",
       "      <td>574</td>\n",
       "    </tr>\n",
       "  </tbody>\n",
       "</table>\n",
       "<p>142798 rows × 7 columns</p>\n",
       "</div>"
      ],
      "text/plain": [
       "       movieID                  movieTitle   lineID characterID character  \\\n",
       "0           m0  10 things i hate about you    L1045          u0    BIANCA   \n",
       "1           m0  10 things i hate about you    L1044          u2   CAMERON   \n",
       "2           m0  10 things i hate about you     L985          u0    BIANCA   \n",
       "3           m0  10 things i hate about you     L984          u2   CAMERON   \n",
       "4           m0  10 things i hate about you     L925          u0    BIANCA   \n",
       "...        ...                         ...      ...         ...       ...   \n",
       "199883    m615          young frankenstein  L665696       u9019      IGOR   \n",
       "199884    m615          young frankenstein  L665695       u9020      INGA   \n",
       "199885    m615          young frankenstein  L665694       u9019      IGOR   \n",
       "199886    m615          young frankenstein  L665652       u9020      INGA   \n",
       "199887    m615          young frankenstein  L665651       u9019      IGOR   \n",
       "\n",
       "                                                     text  \\\n",
       "0                                            They do not!   \n",
       "1                                             They do to!   \n",
       "2                                              I hope so.   \n",
       "3                                               She okay?   \n",
       "4                                               Let's go.   \n",
       "...                                                   ...   \n",
       "199883                      Whew!  A nineteen-inch drill.   \n",
       "199884                                His schwanzstucker.   \n",
       "199885                                         His what??   \n",
       "199886  There must have been someone else down here then.   \n",
       "199887                                      No not sound.   \n",
       "\n",
       "        num_lines_per_movie_count  \n",
       "0                             654  \n",
       "1                             654  \n",
       "2                             654  \n",
       "3                             654  \n",
       "4                             654  \n",
       "...                           ...  \n",
       "199883                        574  \n",
       "199884                        574  \n",
       "199885                        574  \n",
       "199886                        574  \n",
       "199887                        574  \n",
       "\n",
       "[142798 rows x 7 columns]"
      ]
     },
     "execution_count": 11,
     "metadata": {},
     "output_type": "execute_result"
    }
   ],
   "source": [
    "character_lines_per_movie = character_lines_df.groupby([\"movieID\", \"characterID\"])[\"text\"].count().reset_index(name=\"num_lines_per_character\")\n",
    "character_lines_per_movie_valid = character_lines_per_movie[character_lines_per_movie[\"num_lines_per_character\"] >= 50][\"characterID\"]\n",
    "character_lines_df = character_lines_df[character_lines_df[\"characterID\"].isin(character_lines_per_movie_valid)]\n",
    "character_lines_df\n"
   ]
  },
  {
   "cell_type": "code",
   "execution_count": 12,
   "metadata": {},
   "outputs": [
    {
     "name": "stdout",
     "output_type": "stream",
     "text": [
      "Number of characters in movie m0: 5\n"
     ]
    }
   ],
   "source": [
    "#side quest --- how many character in 10 things i hate about you?\n",
    "character_count = character_lines_df[character_lines_df[\"movieID\"] == \"m0\"][\"characterID\"].nunique()\n",
    "print(f\"Number of characters in movie m0: {character_count}\")\n"
   ]
  },
  {
   "cell_type": "markdown",
   "metadata": {},
   "source": [
    "After removing the characters with less than 50 lines, once again remove the movies with less than 5 predictable characters"
   ]
  },
  {
   "cell_type": "code",
   "execution_count": 13,
   "metadata": {},
   "outputs": [
    {
     "data": {
      "text/plain": [
       "movieID\n",
       "m0      5\n",
       "m10     2\n",
       "m100    3\n",
       "m101    2\n",
       "m102    2\n",
       "       ..\n",
       "m88     3\n",
       "m89     4\n",
       "m90     5\n",
       "m92     5\n",
       "m94     3\n",
       "Name: character, Length: 313, dtype: int64"
      ]
     },
     "execution_count": 13,
     "metadata": {},
     "output_type": "execute_result"
    }
   ],
   "source": [
    "character_count_per_movie = character_lines_df.groupby(\"movieID\")[\"character\"].nunique()\n",
    "character_count_per_movie"
   ]
  },
  {
   "cell_type": "code",
   "execution_count": 14,
   "metadata": {},
   "outputs": [
    {
     "data": {
      "text/plain": [
       "count    313.000000\n",
       "mean       3.354633\n",
       "std        1.103078\n",
       "min        1.000000\n",
       "25%        3.000000\n",
       "50%        3.000000\n",
       "75%        4.000000\n",
       "max        7.000000\n",
       "Name: character, dtype: float64"
      ]
     },
     "execution_count": 14,
     "metadata": {},
     "output_type": "execute_result"
    }
   ],
   "source": [
    "character_count_per_movie.describe()"
   ]
  },
  {
   "cell_type": "code",
   "execution_count": 15,
   "metadata": {},
   "outputs": [
    {
     "name": "stdout",
     "output_type": "stream",
     "text": [
      "Index(['m0', 'm105', 'm124', 'm139', 'm149', 'm152', 'm162', 'm165', 'm18',\n",
      "       'm190', 'm203', 'm217', 'm235', 'm238', 'm267', 'm293', 'm322', 'm334',\n",
      "       'm35', 'm368', 'm373', 'm380', 'm405', 'm42', 'm428', 'm435', 'm444',\n",
      "       'm467', 'm475', 'm495', 'm507', 'm513', 'm516', 'm528', 'm532', 'm533',\n",
      "       'm536', 'm537', 'm569', 'm575', 'm59', 'm595', 'm606', 'm78', 'm82',\n",
      "       'm90', 'm92'],\n",
      "      dtype='object', name='movieID')\n",
      "47\n"
     ]
    }
   ],
   "source": [
    "valid_movies_character_lines = character_count_per_movie[character_count_per_movie >= 5].index\n",
    "print(valid_movies_character_lines)\n",
    "print(len(valid_movies_character_lines))"
   ]
  },
  {
   "cell_type": "code",
   "execution_count": 16,
   "metadata": {},
   "outputs": [],
   "source": [
    "character_lines_df = character_lines_df[character_lines_df[\"movieID\"].isin(valid_movies_character_lines)]"
   ]
  },
  {
   "cell_type": "code",
   "execution_count": 17,
   "metadata": {},
   "outputs": [
    {
     "name": "stderr",
     "output_type": "stream",
     "text": [
      "/var/folders/f4/_5js21356_g8zx61755lqs1m0000gn/T/ipykernel_21409/2441820773.py:1: SettingWithCopyWarning: \n",
      "A value is trying to be set on a copy of a slice from a DataFrame\n",
      "\n",
      "See the caveats in the documentation: https://pandas.pydata.org/pandas-docs/stable/user_guide/indexing.html#returning-a-view-versus-a-copy\n",
      "  character_lines_df.drop(columns=\"num_lines_per_movie_count\", inplace = True)\n"
     ]
    },
    {
     "data": {
      "text/html": [
       "<div>\n",
       "<style scoped>\n",
       "    .dataframe tbody tr th:only-of-type {\n",
       "        vertical-align: middle;\n",
       "    }\n",
       "\n",
       "    .dataframe tbody tr th {\n",
       "        vertical-align: top;\n",
       "    }\n",
       "\n",
       "    .dataframe thead th {\n",
       "        text-align: right;\n",
       "    }\n",
       "</style>\n",
       "<table border=\"1\" class=\"dataframe\">\n",
       "  <thead>\n",
       "    <tr style=\"text-align: right;\">\n",
       "      <th></th>\n",
       "      <th>movieID</th>\n",
       "      <th>movieTitle</th>\n",
       "      <th>lineID</th>\n",
       "      <th>characterID</th>\n",
       "      <th>character</th>\n",
       "      <th>text</th>\n",
       "    </tr>\n",
       "  </thead>\n",
       "  <tbody>\n",
       "    <tr>\n",
       "      <th>0</th>\n",
       "      <td>m0</td>\n",
       "      <td>10 things i hate about you</td>\n",
       "      <td>L1045</td>\n",
       "      <td>u0</td>\n",
       "      <td>BIANCA</td>\n",
       "      <td>They do not!</td>\n",
       "    </tr>\n",
       "    <tr>\n",
       "      <th>1</th>\n",
       "      <td>m0</td>\n",
       "      <td>10 things i hate about you</td>\n",
       "      <td>L1044</td>\n",
       "      <td>u2</td>\n",
       "      <td>CAMERON</td>\n",
       "      <td>They do to!</td>\n",
       "    </tr>\n",
       "    <tr>\n",
       "      <th>2</th>\n",
       "      <td>m0</td>\n",
       "      <td>10 things i hate about you</td>\n",
       "      <td>L985</td>\n",
       "      <td>u0</td>\n",
       "      <td>BIANCA</td>\n",
       "      <td>I hope so.</td>\n",
       "    </tr>\n",
       "    <tr>\n",
       "      <th>3</th>\n",
       "      <td>m0</td>\n",
       "      <td>10 things i hate about you</td>\n",
       "      <td>L984</td>\n",
       "      <td>u2</td>\n",
       "      <td>CAMERON</td>\n",
       "      <td>She okay?</td>\n",
       "    </tr>\n",
       "    <tr>\n",
       "      <th>4</th>\n",
       "      <td>m0</td>\n",
       "      <td>10 things i hate about you</td>\n",
       "      <td>L925</td>\n",
       "      <td>u0</td>\n",
       "      <td>BIANCA</td>\n",
       "      <td>Let's go.</td>\n",
       "    </tr>\n",
       "    <tr>\n",
       "      <th>...</th>\n",
       "      <td>...</td>\n",
       "      <td>...</td>\n",
       "      <td>...</td>\n",
       "      <td>...</td>\n",
       "      <td>...</td>\n",
       "      <td>...</td>\n",
       "    </tr>\n",
       "    <tr>\n",
       "      <th>198716</th>\n",
       "      <td>m606</td>\n",
       "      <td>wild things</td>\n",
       "      <td>L654730</td>\n",
       "      <td>u8916</td>\n",
       "      <td>SAM</td>\n",
       "      <td>Swamp's where it's at Sandy.  Gives you a look...</td>\n",
       "    </tr>\n",
       "    <tr>\n",
       "      <th>198718</th>\n",
       "      <td>m606</td>\n",
       "      <td>wild things</td>\n",
       "      <td>L654728</td>\n",
       "      <td>u8916</td>\n",
       "      <td>SAM</td>\n",
       "      <td>Sorry Sandy.  I've got plans.</td>\n",
       "    </tr>\n",
       "    <tr>\n",
       "      <th>198720</th>\n",
       "      <td>m606</td>\n",
       "      <td>wild things</td>\n",
       "      <td>L654726</td>\n",
       "      <td>u8916</td>\n",
       "      <td>SAM</td>\n",
       "      <td>I can't Sandy.  I've got to run.</td>\n",
       "    </tr>\n",
       "    <tr>\n",
       "      <th>198721</th>\n",
       "      <td>m606</td>\n",
       "      <td>wild things</td>\n",
       "      <td>L654724</td>\n",
       "      <td>u8916</td>\n",
       "      <td>SAM</td>\n",
       "      <td>Can't.  Got a passenger.</td>\n",
       "    </tr>\n",
       "    <tr>\n",
       "      <th>198723</th>\n",
       "      <td>m606</td>\n",
       "      <td>wild things</td>\n",
       "      <td>L654722</td>\n",
       "      <td>u8916</td>\n",
       "      <td>SAM</td>\n",
       "      <td>Hi Sandy.</td>\n",
       "    </tr>\n",
       "  </tbody>\n",
       "</table>\n",
       "<p>30010 rows × 6 columns</p>\n",
       "</div>"
      ],
      "text/plain": [
       "       movieID                  movieTitle   lineID characterID character  \\\n",
       "0           m0  10 things i hate about you    L1045          u0    BIANCA   \n",
       "1           m0  10 things i hate about you    L1044          u2   CAMERON   \n",
       "2           m0  10 things i hate about you     L985          u0    BIANCA   \n",
       "3           m0  10 things i hate about you     L984          u2   CAMERON   \n",
       "4           m0  10 things i hate about you     L925          u0    BIANCA   \n",
       "...        ...                         ...      ...         ...       ...   \n",
       "198716    m606                 wild things  L654730       u8916       SAM   \n",
       "198718    m606                 wild things  L654728       u8916       SAM   \n",
       "198720    m606                 wild things  L654726       u8916       SAM   \n",
       "198721    m606                 wild things  L654724       u8916       SAM   \n",
       "198723    m606                 wild things  L654722       u8916       SAM   \n",
       "\n",
       "                                                     text  \n",
       "0                                            They do not!  \n",
       "1                                             They do to!  \n",
       "2                                              I hope so.  \n",
       "3                                               She okay?  \n",
       "4                                               Let's go.  \n",
       "...                                                   ...  \n",
       "198716  Swamp's where it's at Sandy.  Gives you a look...  \n",
       "198718                      Sorry Sandy.  I've got plans.  \n",
       "198720                   I can't Sandy.  I've got to run.  \n",
       "198721                           Can't.  Got a passenger.  \n",
       "198723                                          Hi Sandy.  \n",
       "\n",
       "[30010 rows x 6 columns]"
      ]
     },
     "execution_count": 17,
     "metadata": {},
     "output_type": "execute_result"
    }
   ],
   "source": [
    "character_lines_df.drop(columns=\"num_lines_per_movie_count\", inplace = True)\n",
    "character_lines_df"
   ]
  },
  {
   "cell_type": "code",
   "execution_count": 18,
   "metadata": {},
   "outputs": [],
   "source": [
    "character_lines_df.to_csv(\"character_lines.csv\")"
   ]
  },
  {
   "cell_type": "markdown",
   "metadata": {},
   "source": [
    "Now create a new dataframe with movieID, characters, characterID, lines spoken by each character, and the total number of characters in that movie that we can predict from"
   ]
  },
  {
   "cell_type": "code",
   "execution_count": 19,
   "metadata": {},
   "outputs": [],
   "source": [
    "line_count_df = character_lines_df.groupby([\"movieID\", \"characterID\", \"character\"])[\"text\"].count().reset_index(name=\"character_line_count\")\n",
    "line_count_df.to_csv(\"character_line_count.csv\")"
   ]
  }
 ],
 "metadata": {
  "kernelspec": {
   "display_name": "base",
   "language": "python",
   "name": "python3"
  },
  "language_info": {
   "codemirror_mode": {
    "name": "ipython",
    "version": 3
   },
   "file_extension": ".py",
   "mimetype": "text/x-python",
   "name": "python",
   "nbconvert_exporter": "python",
   "pygments_lexer": "ipython3",
   "version": "3.12.7"
  }
 },
 "nbformat": 4,
 "nbformat_minor": 2
}
