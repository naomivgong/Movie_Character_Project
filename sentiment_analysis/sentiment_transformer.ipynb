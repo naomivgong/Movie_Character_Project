{
 "cells": [
  {
   "cell_type": "markdown",
   "metadata": {},
   "source": [
    "# Sentiment Analysis with Transformer from Hugging Face\n"
   ]
  },
  {
   "cell_type": "code",
   "execution_count": 16,
   "metadata": {},
   "outputs": [
    {
     "name": "stderr",
     "output_type": "stream",
     "text": [
      "/opt/anaconda3/lib/python3.12/site-packages/huggingface_hub/file_download.py:896: FutureWarning: `resume_download` is deprecated and will be removed in version 1.0.0. Downloads always resume when possible. If you want to force a new download, use `force_download=True`.\n",
      "  warnings.warn(\n"
     ]
    }
   ],
   "source": [
    "from transformers import AutoModelForSequenceClassification, pipeline\n",
    "\n",
    "model_name = 'jitesh/emotion-english'\n",
    "model = AutoModelForSequenceClassification.from_pretrained(model_name)\n",
    "classifier = pipeline(\"text-classification\", model=model, tokenizer=model_name)"
   ]
  },
  {
   "cell_type": "code",
   "execution_count": 6,
   "metadata": {},
   "outputs": [
    {
     "name": "stdout",
     "output_type": "stream",
     "text": [
      "[{'label': 'confuse', 'score': 0.9659364223480225}]\n",
      "{'label': 'confuse', 'score': 0.9659364223480225} how do i do this. I'm confused \n"
     ]
    }
   ],
   "source": [
    "text = \"how do i do this. I'm confused \"\n",
    "\n",
    "prediction = classifier(text)\n",
    "print(prediction) #returns list\n",
    "print(prediction[0], text)"
   ]
  },
  {
   "cell_type": "code",
   "execution_count": null,
   "metadata": {},
   "outputs": [],
   "source": [
    "emotion_labels = [\n",
    "    \"anger\", \"cheeky\", \"confuse\", \"curious\", \"disgust\", \"empathetic\", \"energetic\",\n",
    "    \"fear\", \"grumpy\", \"guilty\", \"impatient\", \"joy\", \"love\", \"neutral\", \"sadness\",\n",
    "    \"serious\", \"surprise\", \"suspicious\", \"think\", \"whiny\"\n",
    "]\n"
   ]
  },
  {
   "cell_type": "code",
   "execution_count": 20,
   "metadata": {},
   "outputs": [
    {
     "data": {
      "text/plain": [
       "(200369, 6)"
      ]
     },
     "execution_count": 20,
     "metadata": {},
     "output_type": "execute_result"
    }
   ],
   "source": [
    "import pandas as pd\n",
    "cleaned_lines = pd.read_csv(\"lines_cleaned.csv\")\n",
    "cleaned_lines.columns\n",
    "cleaned_lines.shape"
   ]
  },
  {
   "cell_type": "markdown",
   "metadata": {},
   "source": [
    "For each row, classify the sentiment of the line"
   ]
  },
  {
   "cell_type": "code",
   "execution_count": 19,
   "metadata": {},
   "outputs": [
    {
     "name": "stdout",
     "output_type": "stream",
     "text": [
      "They do not!\n",
      "They do to!\n",
      "I hope so.\n",
      "She okay?\n",
      "Let's go.\n",
      "Wow\n",
      "Okay -- you're gonna need to learn how to lie.\n",
      "No\n",
      "Like my fear of wearing pastels?\n",
      "What good stuff?\n"
     ]
    }
   ],
   "source": [
    "\n",
    "#print first 10 lines\n",
    "for line in range(10):\n",
    "    print(cleaned_lines['text'][line])\n"
   ]
  },
  {
   "cell_type": "code",
   "execution_count": null,
   "metadata": {},
   "outputs": [],
   "source": [
    "from tqdm import tqdm"
   ]
  },
  {
   "cell_type": "code",
   "execution_count": 23,
   "metadata": {},
   "outputs": [
    {
     "name": "stderr",
     "output_type": "stream",
     "text": [
      "/opt/anaconda3/lib/python3.12/site-packages/huggingface_hub/file_download.py:896: FutureWarning: `resume_download` is deprecated and will be removed in version 1.0.0. Downloads always resume when possible. If you want to force a new download, use `force_download=True`.\n",
      "  warnings.warn(\n",
      "100%|██████████| 200369/200369 [1:03:03<00:00, 52.95it/s]\n"
     ]
    }
   ],
   "source": [
    "from transformers import AutoTokenizer\n",
    "\n",
    "tokenizer = AutoTokenizer.from_pretrained(classifier.model.name_or_path)\n",
    "\n",
    "line_ids = []\n",
    "sentiments = []\n",
    "\n",
    "for line in tqdm(range(len(cleaned_lines))):\n",
    "    text = cleaned_lines['text'][line]\n",
    "    encoded = tokenizer.encode(text, truncation=True, max_length=512, return_tensors=\"pt\")\n",
    "    decoded = tokenizer.decode(encoded[0], skip_special_tokens=True)\n",
    "    sentiment = classifier(decoded)\n",
    "    \n",
    "    line_ids.append(cleaned_lines[\"lineID\"][line])\n",
    "    sentiments.append(sentiment)\n",
    "\n",
    "\n"
   ]
  },
  {
   "cell_type": "markdown",
   "metadata": {},
   "source": [
    "## Now that each corresponding line has a sentiment we want to merge it back into our dataframe"
   ]
  },
  {
   "cell_type": "code",
   "execution_count": 34,
   "metadata": {},
   "outputs": [
    {
     "data": {
      "text/plain": [
       "[{'label': 'anger', 'score': 0.9859177470207214}]"
      ]
     },
     "execution_count": 34,
     "metadata": {},
     "output_type": "execute_result"
    }
   ],
   "source": [
    "sentiments[0]"
   ]
  },
  {
   "cell_type": "code",
   "execution_count": null,
   "metadata": {},
   "outputs": [
    {
     "data": {
      "text/html": [
       "<div>\n",
       "<style scoped>\n",
       "    .dataframe tbody tr th:only-of-type {\n",
       "        vertical-align: middle;\n",
       "    }\n",
       "\n",
       "    .dataframe tbody tr th {\n",
       "        vertical-align: top;\n",
       "    }\n",
       "\n",
       "    .dataframe thead th {\n",
       "        text-align: right;\n",
       "    }\n",
       "</style>\n",
       "<table border=\"1\" class=\"dataframe\">\n",
       "  <thead>\n",
       "    <tr style=\"text-align: right;\">\n",
       "      <th></th>\n",
       "      <th>lineID</th>\n",
       "      <th>sentiment</th>\n",
       "      <th>confidence</th>\n",
       "    </tr>\n",
       "  </thead>\n",
       "  <tbody>\n",
       "    <tr>\n",
       "      <th>0</th>\n",
       "      <td>L1045</td>\n",
       "      <td>anger</td>\n",
       "      <td>0.985918</td>\n",
       "    </tr>\n",
       "    <tr>\n",
       "      <th>1</th>\n",
       "      <td>L1044</td>\n",
       "      <td>anger</td>\n",
       "      <td>0.987566</td>\n",
       "    </tr>\n",
       "    <tr>\n",
       "      <th>2</th>\n",
       "      <td>L985</td>\n",
       "      <td>neutral</td>\n",
       "      <td>0.704899</td>\n",
       "    </tr>\n",
       "    <tr>\n",
       "      <th>3</th>\n",
       "      <td>L984</td>\n",
       "      <td>whiny</td>\n",
       "      <td>0.629378</td>\n",
       "    </tr>\n",
       "    <tr>\n",
       "      <th>4</th>\n",
       "      <td>L925</td>\n",
       "      <td>impatient</td>\n",
       "      <td>0.983746</td>\n",
       "    </tr>\n",
       "    <tr>\n",
       "      <th>...</th>\n",
       "      <td>...</td>\n",
       "      <td>...</td>\n",
       "      <td>...</td>\n",
       "    </tr>\n",
       "    <tr>\n",
       "      <th>200364</th>\n",
       "      <td>L665991</td>\n",
       "      <td>empathetic</td>\n",
       "      <td>0.498676</td>\n",
       "    </tr>\n",
       "    <tr>\n",
       "      <th>200365</th>\n",
       "      <td>L665990</td>\n",
       "      <td>joy</td>\n",
       "      <td>0.920127</td>\n",
       "    </tr>\n",
       "    <tr>\n",
       "      <th>200366</th>\n",
       "      <td>L665989</td>\n",
       "      <td>curious</td>\n",
       "      <td>0.917601</td>\n",
       "    </tr>\n",
       "    <tr>\n",
       "      <th>200367</th>\n",
       "      <td>L665988</td>\n",
       "      <td>joy</td>\n",
       "      <td>0.968985</td>\n",
       "    </tr>\n",
       "    <tr>\n",
       "      <th>200368</th>\n",
       "      <td>L665987</td>\n",
       "      <td>impatient</td>\n",
       "      <td>0.607201</td>\n",
       "    </tr>\n",
       "  </tbody>\n",
       "</table>\n",
       "<p>200369 rows × 3 columns</p>\n",
       "</div>"
      ],
      "text/plain": [
       "         lineID   sentiment  confidence\n",
       "0         L1045       anger    0.985918\n",
       "1         L1044       anger    0.987566\n",
       "2          L985     neutral    0.704899\n",
       "3          L984       whiny    0.629378\n",
       "4          L925   impatient    0.983746\n",
       "...         ...         ...         ...\n",
       "200364  L665991  empathetic    0.498676\n",
       "200365  L665990         joy    0.920127\n",
       "200366  L665989     curious    0.917601\n",
       "200367  L665988         joy    0.968985\n",
       "200368  L665987   impatient    0.607201\n",
       "\n",
       "[200369 rows x 3 columns]"
      ]
     },
     "execution_count": 36,
     "metadata": {},
     "output_type": "execute_result"
    }
   ],
   "source": [
    "sentiment_labels = [s[0][\"label\"] for s in sentiments]\n",
    "confidence = [s[0]['score'] for s in sentiments]\n",
    "sentiments_df  = pd.DataFrame({'lineID': line_ids, \n",
    "              'sentiment': sentiment_labels, \n",
    "              'confidence': confidence})"
   ]
  },
  {
   "cell_type": "code",
   "execution_count": 38,
   "metadata": {},
   "outputs": [],
   "source": [
    "line_sentiments_df = pd.merge(cleaned_lines, sentiments_df, on=\"lineID\")\n"
   ]
  },
  {
   "cell_type": "code",
   "execution_count": 40,
   "metadata": {},
   "outputs": [
    {
     "data": {
      "text/plain": [
       "Index(['lineID', 'characterID', 'movieID', 'character', 'text', 'count',\n",
       "       'sentiment', 'confidence'],\n",
       "      dtype='object')"
      ]
     },
     "execution_count": 40,
     "metadata": {},
     "output_type": "execute_result"
    }
   ],
   "source": [
    "line_sentiments_df.columns"
   ]
  },
  {
   "cell_type": "code",
   "execution_count": 47,
   "metadata": {},
   "outputs": [
    {
     "data": {
      "text/plain": [
       "Index(['lineID', 'characterID', 'movieID', 'character', 'text',\n",
       "       'num_lines_per_movie_count', 'sentiment', 'confidence'],\n",
       "      dtype='object')"
      ]
     },
     "execution_count": 47,
     "metadata": {},
     "output_type": "execute_result"
    }
   ],
   "source": [
    "line_sentiments_df = line_sentiments_df.rename(columns={'count': 'num_lines_per_movie_count'})\n",
    "line_sentiments_df.columns"
   ]
  },
  {
   "cell_type": "code",
   "execution_count": null,
   "metadata": {},
   "outputs": [],
   "source": [
    "line_sentiments_df.to_csv(\"line_sentiment.csv\")\n"
   ]
  }
 ],
 "metadata": {
  "kernelspec": {
   "display_name": "base",
   "language": "python",
   "name": "python3"
  },
  "language_info": {
   "codemirror_mode": {
    "name": "ipython",
    "version": 3
   },
   "file_extension": ".py",
   "mimetype": "text/x-python",
   "name": "python",
   "nbconvert_exporter": "python",
   "pygments_lexer": "ipython3",
   "version": "3.12.7"
  }
 },
 "nbformat": 4,
 "nbformat_minor": 2
}
